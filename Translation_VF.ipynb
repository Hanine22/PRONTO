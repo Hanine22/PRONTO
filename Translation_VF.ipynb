{
 "cells": [
  {
   "cell_type": "markdown",
   "id": "7224a4e9",
   "metadata": {},
   "source": [
    "# 1. CREATE MESH USING SMPL MODEL\n",
    "Attention des path vers des repectoire car c'est adapté pour ma machine!"
   ]
  },
  {
   "cell_type": "markdown",
   "id": "7abad37f",
   "metadata": {},
   "source": [
    "### Definite SMPLX class for SMPLX model"
   ]
  },
  {
   "cell_type": "code",
   "execution_count": null,
   "id": "44bf8719",
   "metadata": {},
   "outputs": [],
   "source": [
    "\n",
    "import torch\n",
    "from body_model import BodyModel\n",
    "from utils1 import rodrigues_2_rot_mat#, rotation6d_2_rot_mat\n",
    "from lbs import lbs, batch_rodrigues\n",
    "import os\n",
    "import numpy as np\n",
    "\n",
    "# Define the project root directory\n",
    "# find the path to the project root directory\n",
    "PROJECT_ROOT = os.path.abspath(os.path.join(os.getcwd(), os.pardir))\n",
    "\n",
    "PROJECT_ROOT = os.path.join(PROJECT_ROOT,'/mnt/c/Users/hanin/OneDrive/Bureau/PRONTO')\n",
    "\n",
    "# Define the path to SMPLX_MALE.npz using an absolute path\n",
    "SMPLX_MODEL_MALE_PATH = os.path.join(PROJECT_ROOT, 'smplx', 'SMPLX_MALE.npz')\n",
    "\n",
    "class SMPLX(BodyModel):\n",
    "    def __init__(self, num_betas=16, **kwargs):\n",
    "        super().__init__(bm_fname=SMPLX_MODEL_MALE_PATH, num_betas=num_betas, num_expressions=0, **kwargs)\n",
    "\n",
    "    def forward(self, pose_body, betas, use_rodrigues=True):\n",
    "        \n",
    "        device = pose_body.device\n",
    "        for name in ['init_pose_hand', 'init_pose_jaw','init_pose_eye', 'init_v_template', 'init_expression', \n",
    "                    'shapedirs', 'exprdirs', 'posedirs', 'J_regressor', 'kintree_table', 'weights', 'f']:\n",
    "            _tensor = getattr(self, name)\n",
    "            setattr(self, name, _tensor.to(device))\n",
    "\n",
    "        batch_size = pose_body.shape[0]\n",
    "        \n",
    "        #trans = pose_body[:, :3] # No translation\n",
    "        pose_hand = self.init_pose_hand.expand(batch_size, -1)\n",
    "        pose_jaw = self.init_pose_jaw.expand(batch_size, -1)\n",
    "        pose_eye = self.init_pose_eye.expand(batch_size, -1)\n",
    "        v_template = self.init_v_template.expand(batch_size, -1, -1)\n",
    "        expression = self.init_expression.expand(batch_size, -1)\n",
    "\n",
    "        init_pose = torch.cat([pose_jaw, pose_eye, pose_hand], dim=-1) # [B, 99] full of zeros\n",
    "        if not use_rodrigues:\n",
    "            init_pose = rodrigues_2_rot_mat(init_pose) # [B, 99] -> [B, 33, 3, 3]\n",
    "        #full_pose = torch.cat([pose_body[:, 3:], init_pose], dim=-1)\n",
    "        \n",
    "        full_pose = torch.cat([pose_body, init_pose], dim=-1) # No translation, concat of Pose body [B, 66] and init_pose [B, 99] = [B, 165]\n",
    "        \n",
    "        \n",
    "        shape_components = torch.cat([betas, expression], dim=-1)\n",
    "        shapedirs = torch.cat([self.shapedirs, self.exprdirs], dim=-1)\n",
    "        \n",
    "\n",
    "        verts, joints = lbs(betas=shape_components, pose=full_pose, v_template=v_template,\n",
    "                        shapedirs=shapedirs, posedirs=self.posedirs, J_regressor=self.J_regressor,\n",
    "                        parents=self.kintree_table[0].long(), lbs_weights=self.weights, pose2rot=use_rodrigues)\n",
    "        \n",
    "        faces = self.f.expand(batch_size, -1, -1)\n",
    "        #textures = torch.ones_like(verts)\n",
    "\n",
    "\n",
    "        # joints = joints + trans.unsqueeze(dim=1)\n",
    "        # verts = verts + trans.unsqueeze(dim=1)\n",
    "        \n",
    "        return dict(verts=verts, faces=faces, joints=joints)"
   ]
  },
  {
   "cell_type": "code",
   "execution_count": null,
   "id": "fe95cdb0",
   "metadata": {},
   "outputs": [],
   "source": [
    "device = torch.device('cuda' if torch.cuda.is_available() else 'cpu')\n",
    "smplx = SMPLX().to(device)"
   ]
  },
  {
   "cell_type": "markdown",
   "id": "4063055b",
   "metadata": {},
   "source": [
    "### Load CMU data and CREATE MESHES BY USING the SMPLX model"
   ]
  },
  {
   "cell_type": "code",
   "execution_count": null,
   "id": "688e96e4",
   "metadata": {},
   "outputs": [],
   "source": [
    "# LOAD CMU DATASET\n",
    "import numpy as np\n",
    "import matplotlib.pyplot as plt\n",
    "\n",
    "# Load the npz file\n",
    "npz_file_path = \"/mnt/c/Users/hanin/OneDrive/Bureau/PRONTO/CMU/01/01_01_poses.npz\"\n",
    "npz_smplx = \"/mnt/c/Users/hanin/OneDrive/Bureau/PRONTO/smplx/SMPLX_MALE.npz\"\n",
    "npz_file = np.load(npz_file_path)#, allow_pickle=True)\n",
    "npz_file_smplx = np.load(npz_smplx, allow_pickle=True)  \n",
    "\n",
    "# Extract the data\n",
    "print(\"Extracting data...\")\n",
    "data = {}\n",
    "for key in npz_file.keys():\n",
    "    print(f\"Key: {key}\")\n",
    "    try : \n",
    "        if npz_file[key].shape == ():\n",
    "            print(f\"Content: {npz_file[key]}\")\n",
    "        else:\n",
    "            print(f\"Shape: {npz_file[key].shape}\")\n",
    "    except:\n",
    "         \n",
    "        continue\n",
    "    data[key] = npz_file[key]\n",
    "    print(data[key].shape)\n",
    "print(\"Data extracted.\")\n",
    "\n"
   ]
  },
  {
   "cell_type": "code",
   "execution_count": null,
   "id": "79dab373",
   "metadata": {},
   "outputs": [],
   "source": [
    "# Create MESHES \n",
    "pose_body = torch.tensor(data['poses'][:-1, :66], dtype=torch.float32).to(device) # 21 joints (63 vec) \n",
    "beta = torch.tensor(data['betas'], dtype=torch.float32).unsqueeze(0).repeat(pose_body.shape[0], 1).to(device) \n",
    "\n",
    "meshes = smplx(pose_body=pose_body, betas=beta, use_rodrigues=True)\n",
    "verts = meshes['verts']#.verts_padded()\n",
    "faces = meshes['faces']#.faces_packed()\n",
    "trans = data['trans']\n",
    "# Difference between first two frames\n",
    "diff = (verts[1] - verts[0]).abs().max()\n",
    "\n",
    "(verts[-1, :, 0].mean() - verts[0, :, 0].mean()).item()\n",
    "\n"
   ]
  },
  {
   "cell_type": "markdown",
   "id": "b0ad1913",
   "metadata": {},
   "source": [
    "### visualize seq with translation following the data['trans'] trajectory:\n"
   ]
  },
  {
   "cell_type": "code",
   "execution_count": null,
   "id": "4505a6d7",
   "metadata": {},
   "outputs": [],
   "source": [
    "def visualize_seq_with_translation(verts, faces, trans):\n",
    "    from matplotlib.animation import FuncAnimation\n",
    "    from IPython.display import HTML\n",
    "    import matplotlib.pyplot as plt\n",
    "\n",
    "    fig = plt.figure(figsize=(12, 6))\n",
    "    ax_pc = fig.add_subplot(121, projection='3d')\n",
    "    ax_mesh = fig.add_subplot(122, projection='3d')\n",
    "\n",
    "    total_frames = len(verts)\n",
    "\n",
    "    def update_view(frame):\n",
    "        ax_pc.cla()\n",
    "        ax_mesh.cla()\n",
    "\n",
    "        val_min=verts.min().item()-0.7\n",
    "        val_max=verts.max().item()+0.7\n",
    "\n",
    "\n",
    "        # Apply translation to the current frame\n",
    "        translated_verts = verts[frame] + trans[frame]\n",
    "\n",
    "        gt_pc = translated_verts.cpu().numpy()\n",
    "\n",
    "        # Point cloud\n",
    "        ax_pc.scatter(gt_pc[:, 0], gt_pc[:, 1], gt_pc[:, 2], s=0.01, c='gray')\n",
    "        ax_pc.set_title(f\"Point Cloud Frame {frame + 1}\")\n",
    "        ax_pc.set_xlim(val_min, val_max)\n",
    "        ax_pc.set_ylim(val_min, val_max)\n",
    "        ax_pc.set_zlim(val_min, val_max)\n",
    "        ax_pc.view_init(elev=20, azim=50)\n",
    "\n",
    "        # Mesh\n",
    "        ax_mesh.plot_trisurf(gt_pc[:, 0], gt_pc[:, 1], gt_pc[:, 2], triangles=faces, color='green', alpha=0.2)\n",
    "        ax_mesh.set_title(f\"Mesh Frame {frame + 1}\")\n",
    "        ax_mesh.set_xlim(val_min, val_max)\n",
    "        ax_mesh.set_ylim(val_min, val_max)\n",
    "        ax_mesh.set_zlim(val_min, val_max)\n",
    "        ax_mesh.view_init(elev=20, azim=50)\n",
    "\n",
    "    ani = FuncAnimation(fig, update_view, frames=total_frames)\n",
    "    plt.close(fig)\n",
    "    return ani\n",
    "\n"
   ]
  },
  {
   "cell_type": "code",
   "execution_count": null,
   "id": "1fdfefe5",
   "metadata": {},
   "outputs": [],
   "source": [
    "import matplotlib as mpl\n",
    "mpl.rcParams['animation.embed_limit'] = 100  # Allow large animation\n",
    "  \n",
    "trans_tensor = torch.tensor(data['trans'], dtype=torch.float32).to(device)\n",
    "ani = visualize_seq_with_translation(verts[::20], faces[0].cpu().numpy(), trans_tensor[::20])\n",
    "HTML(ani.to_jshtml())\n",
    "\n",
    "\n"
   ]
  },
  {
   "cell_type": "markdown",
   "id": "cc094b49",
   "metadata": {},
   "source": [
    "# 2. CODE TO READ CMU DATA \n",
    "### ATTENTION: Groupe 1, vous n'avez pas tout des codes pour creer des meshes. Donc ne pas tester des codes précédament ! Concentrer seulement sur cette partie. \n",
    "### Il faut que vous voyez avec le goupe 2 pour recuperer des données de CMU! "
   ]
  },
  {
   "cell_type": "markdown",
   "id": "290f9d7c",
   "metadata": {},
   "source": [
    "### Load one sequence of CMU data "
   ]
  },
  {
   "cell_type": "code",
   "execution_count": null,
   "id": "bbe4d70f",
   "metadata": {},
   "outputs": [],
   "source": [
    "import numpy as np\n",
    "import matplotlib.pyplot as plt\n",
    "\n",
    "# Load the npz file\n",
    "npz_file_path =\"/mnt/c/Users/hanin/OneDrive/Bureau/PRONTO/CMU/09/09_01_poses.npz\"\n",
    "npz_smplx = \"/mnt/c/Users/hanin/OneDrive/Bureau/PRONTO/smplx/SMPLX_MALE.npz\"\n",
    "npz_file = np.load(npz_file_path)#, allow_pickle=True)\n",
    "npz_file_smplx = np.load(npz_smplx, allow_pickle=True)  \n",
    "\n",
    "# Extract the data\n",
    "print(\"Extracting data...\")\n",
    "data = {}\n",
    "for key in npz_file.keys():\n",
    "    print(f\"Key: {key}\")\n",
    "    try : \n",
    "        if npz_file[key].shape == ():\n",
    "            print(f\"Content: {npz_file[key]}\")\n",
    "        else:\n",
    "            print(f\"Shape: {npz_file[key].shape}\")\n",
    "    except:\n",
    "         \n",
    "        continue\n",
    "    data[key] = npz_file[key]\n",
    "    print(data[key].shape)\n",
    "print(\"Data extracted.\")"
   ]
  },
  {
   "cell_type": "markdown",
   "id": "c710a27c",
   "metadata": {},
   "source": [
    "### RECUPERER LE TRANSLATATION "
   ]
  },
  {
   "cell_type": "code",
   "execution_count": null,
   "id": "8073dfba",
   "metadata": {},
   "outputs": [],
   "source": [
    "trans = data['trans']\n",
    "print(trans)"
   ]
  },
  {
   "cell_type": "markdown",
   "id": "410fd38a",
   "metadata": {},
   "source": [
    "### Visualiez  translation "
   ]
  },
  {
   "cell_type": "code",
   "execution_count": null,
   "id": "2e406715",
   "metadata": {},
   "outputs": [],
   "source": [
    "fig = plt.figure(figsize=(10, 8))\n",
    "ax = fig.add_subplot(111, projection='3d')\n",
    "ax.scatter(trans[:,0], trans[:,1], trans[:,2], s=1, label='translation')"
   ]
  },
  {
   "cell_type": "markdown",
   "id": "fc0c287c",
   "metadata": {},
   "source": [
    "# A VOUS DE FAIRE LE TRAVAIL ! "
   ]
  }
 ],
 "metadata": {
  "kernelspec": {
   "display_name": "body",
   "language": "python",
   "name": "python3"
  },
  "language_info": {
   "codemirror_mode": {
    "name": "ipython",
    "version": 3
   },
   "file_extension": ".py",
   "mimetype": "text/x-python",
   "name": "python",
   "nbconvert_exporter": "python",
   "pygments_lexer": "ipython3",
   "version": "3.9.21"
  }
 },
 "nbformat": 4,
 "nbformat_minor": 5
}
